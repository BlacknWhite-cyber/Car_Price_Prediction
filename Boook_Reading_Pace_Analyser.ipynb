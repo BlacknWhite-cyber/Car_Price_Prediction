{
  "nbformat": 4,
  "nbformat_minor": 0,
  "metadata": {
    "colab": {
      "provenance": [],
      "authorship_tag": "ABX9TyNaKL327J02N4ew9GWDsFgU",
      "include_colab_link": true
    },
    "kernelspec": {
      "name": "python3",
      "display_name": "Python 3"
    },
    "language_info": {
      "name": "python"
    }
  },
  "cells": [
    {
      "cell_type": "markdown",
      "metadata": {
        "id": "view-in-github",
        "colab_type": "text"
      },
      "source": [
        "<a href=\"https://colab.research.google.com/github/BlacknWhite-cyber/Car_Price_Prediction/blob/main/Boook_Reading_Pace_Analyser.ipynb\" target=\"_parent\"><img src=\"https://colab.research.google.com/assets/colab-badge.svg\" alt=\"Open In Colab\"/></a>"
      ]
    },
    {
      "cell_type": "markdown",
      "source": [
        "Working Function"
      ],
      "metadata": {
        "id": "KFCZiVnOTWV9"
      }
    },
    {
      "cell_type": "code",
      "source": [
        "from datetime import datetime, timedelta\n",
        "import json\n",
        "import os\n",
        "\n",
        "class ReadingTracker:\n",
        "    def __init__(self):\n",
        "        self.reading_data = []\n",
        "        self.data_file = \"reading_data.json\"\n",
        "        self.load_data()\n",
        "\n",
        "    def load_data(self):\n",
        "        if os.path.exists(self.data_file):\n",
        "            with open(self.data_file, 'r') as f:\n",
        "                self.reading_data = json.load(f)\n",
        "\n",
        "    def save_data(self):\n",
        "        with open(self.data_file, 'w') as f:\n",
        "            json.dump(self.reading_data, f)\n",
        "\n",
        "    def add_reading_session(self, book_title, pages_read, minutes_spent):\n",
        "        session = {\n",
        "            'book_title': book_title,\n",
        "            'pages_read': pages_read,\n",
        "            'minutes_spent': minutes_spent,\n",
        "            'date': datetime.now().strftime('%Y-%m-%d %H:%M:%S')\n",
        "        }\n",
        "        self.reading_data.append(session)\n",
        "        self.save_data()\n",
        "\n",
        "    def analyze_reading_pace(self):\n",
        "        if not self.reading_data:\n",
        "            return \"No reading data available.\"\n",
        "\n",
        "        total_pages = sum(session['pages_read'] for session in self.reading_data)\n",
        "        total_minutes = sum(session['minutes_spent'] for session in self.reading_data)\n",
        "\n",
        "        avg_pages_per_minute = total_pages / total_minutes if total_minutes > 0 else 0\n",
        "        pages_per_hour = avg_pages_per_minute * 60\n",
        "\n",
        "        book_stats = {}\n",
        "        for session in self.reading_data:\n",
        "            title = session['book_title']\n",
        "            if title not in book_stats:\n",
        "                book_stats[title] = {\n",
        "                    'total_pages': 0,\n",
        "                    'total_minutes': 0,\n",
        "                    'sessions': 0\n",
        "                }\n",
        "            book_stats[title]['total_pages'] += session['pages_read']\n",
        "            book_stats[title]['total_minutes'] += session['minutes_spent']\n",
        "            book_stats[title]['sessions'] += 1\n",
        "\n",
        "        analysis = {\n",
        "            'overall_stats': {\n",
        "                'total_pages_read': total_pages,\n",
        "                'total_reading_time': f\"{total_minutes} minutes\",\n",
        "                'average_pages_per_hour': round(pages_per_hour, 2)\n",
        "            },\n",
        "            'book_specific_stats': {\n",
        "                title: {\n",
        "                    'pages_read': stats['total_pages'],\n",
        "                    'time_spent': f\"{stats['total_minutes']} minutes\",\n",
        "                    'avg_pages_per_hour': round((stats['total_pages'] / stats['total_minutes'] * 60), 2),\n",
        "                    'reading_sessions': stats['sessions']\n",
        "                }\n",
        "                for title, stats in book_stats.items()\n",
        "            }\n",
        "        }\n",
        "        return analysis\n",
        "\n",
        "\n"
      ],
      "metadata": {
        "id": "PS8N4ZVGGjaI"
      },
      "execution_count": 7,
      "outputs": []
    },
    {
      "cell_type": "markdown",
      "source": [
        "Example Usage, Sample Reading Sessions and Analysis"
      ],
      "metadata": {
        "id": "YZKEqAEtTmtn"
      }
    },
    {
      "cell_type": "code",
      "source": [
        "\n",
        "if __name__ == \"__main__\":\n",
        "    tracker = ReadingTracker()\n",
        "\n",
        "    tracker.add_reading_session(\"The Great Gatsby\", 30, 45)\n",
        "    tracker.add_reading_session(\"The Great Gatsby\", 25, 35)\n",
        "    tracker.add_reading_session(\"1984\", 40, 60)\n",
        "\n",
        "    analysis = tracker.analyze_reading_pace()\n",
        "    print(json.dumps(analysis, indent=2))\n"
      ],
      "metadata": {
        "colab": {
          "base_uri": "https://localhost:8080/"
        },
        "id": "Hs9FaVc-Kta3",
        "outputId": "9bb4e3ff-1d29-4c0e-daab-89dbc1c714b1"
      },
      "execution_count": 8,
      "outputs": [
        {
          "output_type": "stream",
          "name": "stdout",
          "text": [
            "{\n",
            "  \"overall_stats\": {\n",
            "    \"total_pages_read\": 190,\n",
            "    \"total_reading_time\": \"280 minutes\",\n",
            "    \"average_pages_per_hour\": 40.71\n",
            "  },\n",
            "  \"book_specific_stats\": {\n",
            "    \"The Great Gatsby\": {\n",
            "      \"pages_read\": 110,\n",
            "      \"time_spent\": \"160 minutes\",\n",
            "      \"avg_pages_per_hour\": 41.25,\n",
            "      \"reading_sessions\": 4\n",
            "    },\n",
            "    \"1984\": {\n",
            "      \"pages_read\": 80,\n",
            "      \"time_spent\": \"120 minutes\",\n",
            "      \"avg_pages_per_hour\": 40.0,\n",
            "      \"reading_sessions\": 2\n",
            "    }\n",
            "  }\n",
            "}\n"
          ]
        }
      ]
    },
    {
      "cell_type": "code",
      "source": [],
      "metadata": {
        "id": "w-C0xXl6UFK0"
      },
      "execution_count": null,
      "outputs": []
    }
  ]
}